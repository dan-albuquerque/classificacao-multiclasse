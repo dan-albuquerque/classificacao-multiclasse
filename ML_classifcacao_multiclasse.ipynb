{
  "nbformat": 4,
  "nbformat_minor": 0,
  "metadata": {
    "colab": {
      "provenance": []
    },
    "kernelspec": {
      "name": "python3",
      "display_name": "Python 3"
    },
    "language_info": {
      "name": "python"
    }
  },
  "cells": [
    {
      "cell_type": "markdown",
      "source": [
        "# Objetivo do projeto:\n",
        "\n",
        "prever alunos que vão desistir do curso de uma universidade"
      ],
      "metadata": {
        "id": "ybxIT4CIlDnU"
      }
    },
    {
      "cell_type": "markdown",
      "source": [
        "## Analise exploratoria"
      ],
      "metadata": {
        "id": "Tr-zI11EmymN"
      }
    },
    {
      "cell_type": "code",
      "execution_count": null,
      "metadata": {
        "colab": {
          "base_uri": "https://localhost:8080/"
        },
        "id": "Ly3ve_B1ohJr",
        "outputId": "2f0baa41-1ebe-46cd-b922-2994cbcbfa39"
      },
      "outputs": [
        {
          "output_type": "stream",
          "name": "stdout",
          "text": [
            "<class 'pandas.core.frame.DataFrame'>\n",
            "RangeIndex: 4424 entries, 0 to 4423\n",
            "Data columns (total 28 columns):\n",
            " #   Column                                    Non-Null Count  Dtype  \n",
            "---  ------                                    --------------  -----  \n",
            " 0   Estado civil                              4424 non-null   object \n",
            " 1   Migração                                  4424 non-null   object \n",
            " 2   Sexo                                      4424 non-null   object \n",
            " 3   Idade na matrícula                        4424 non-null   int64  \n",
            " 4   Estrangeiro                               4424 non-null   object \n",
            " 5   Necessidades educacionais especiais       4424 non-null   object \n",
            " 6   Devedor                                   4424 non-null   object \n",
            " 7   Taxas de matrícula em dia                 4424 non-null   object \n",
            " 8   Bolsista                                  4424 non-null   object \n",
            " 9   Taxa de desemprego                        4424 non-null   float64\n",
            " 10  Taxa de inflação                          4424 non-null   float64\n",
            " 11  PIB                                       4424 non-null   float64\n",
            " 12  Curso                                     4424 non-null   object \n",
            " 13  Período                                   4424 non-null   object \n",
            " 14  Qualificação prévia                       4424 non-null   object \n",
            " 15  disciplinas 1º semestre (creditadas)      4424 non-null   int64  \n",
            " 16  disciplinas 1º semestre (matriculadas)    4424 non-null   int64  \n",
            " 17  disciplinas 1º semestre (avaliações)      4424 non-null   int64  \n",
            " 18  disciplinas 1º semestre (aprovadas)       4424 non-null   int64  \n",
            " 19  disciplinas 1º semestre (notas)           4424 non-null   float64\n",
            " 20  disciplinas 1º semestre (sem avaliações)  4424 non-null   int64  \n",
            " 21  disciplinas 2º semestre (creditadas)      4424 non-null   int64  \n",
            " 22  disciplinas 2º semestre (matriculadas)    4424 non-null   int64  \n",
            " 23  disciplinas 2º semestre (avaliações)      4424 non-null   int64  \n",
            " 24  disciplinas 2º semestre (aprovadas)       4424 non-null   int64  \n",
            " 25  disciplinas 2º semestre (notas)           4424 non-null   float64\n",
            " 26  disciplinas 2º semestre (sem avaliações)  4424 non-null   int64  \n",
            " 27  Target                                    4424 non-null   object \n",
            "dtypes: float64(5), int64(11), object(12)\n",
            "memory usage: 967.9+ KB\n"
          ]
        }
      ],
      "source": [
        "import pandas as pd\n",
        "df = pd.read_csv('/content/drive/MyDrive/data_bases_alura/dados_estudantes.csv')\n",
        "df.info()"
      ]
    },
    {
      "cell_type": "code",
      "source": [
        "df.describe().round(1)"
      ],
      "metadata": {
        "colab": {
          "base_uri": "https://localhost:8080/",
          "height": 372
        },
        "id": "SlQfOMgprKIo",
        "outputId": "4debce5e-258d-479f-884a-16815c56415a"
      },
      "execution_count": null,
      "outputs": [
        {
          "output_type": "execute_result",
          "data": {
            "text/plain": [
              "       Idade na matrícula  Taxa de desemprego  Taxa de inflação     PIB  \\\n",
              "count              4424.0              4424.0            4424.0  4424.0   \n",
              "mean                 23.3                11.6               1.2     0.0   \n",
              "std                   7.6                 2.7               1.4     2.3   \n",
              "min                  17.0                 7.6              -0.8    -4.1   \n",
              "25%                  19.0                 9.4               0.3    -1.7   \n",
              "50%                  20.0                11.1               1.4     0.3   \n",
              "75%                  25.0                13.9               2.6     1.8   \n",
              "max                  70.0                16.2               3.7     3.5   \n",
              "\n",
              "       disciplinas 1º semestre (creditadas)  \\\n",
              "count                                4424.0   \n",
              "mean                                    0.7   \n",
              "std                                     2.4   \n",
              "min                                     0.0   \n",
              "25%                                     0.0   \n",
              "50%                                     0.0   \n",
              "75%                                     0.0   \n",
              "max                                    20.0   \n",
              "\n",
              "       disciplinas 1º semestre (matriculadas)  \\\n",
              "count                                  4424.0   \n",
              "mean                                      6.3   \n",
              "std                                       2.5   \n",
              "min                                       0.0   \n",
              "25%                                       5.0   \n",
              "50%                                       6.0   \n",
              "75%                                       7.0   \n",
              "max                                      26.0   \n",
              "\n",
              "       disciplinas 1º semestre (avaliações)  \\\n",
              "count                                4424.0   \n",
              "mean                                    8.3   \n",
              "std                                     4.2   \n",
              "min                                     0.0   \n",
              "25%                                     6.0   \n",
              "50%                                     8.0   \n",
              "75%                                    10.0   \n",
              "max                                    45.0   \n",
              "\n",
              "       disciplinas 1º semestre (aprovadas)  disciplinas 1º semestre (notas)  \\\n",
              "count                               4424.0                           4424.0   \n",
              "mean                                   4.7                             10.6   \n",
              "std                                    3.1                              4.8   \n",
              "min                                    0.0                              0.0   \n",
              "25%                                    3.0                             11.0   \n",
              "50%                                    5.0                             12.3   \n",
              "75%                                    6.0                             13.4   \n",
              "max                                   26.0                             18.9   \n",
              "\n",
              "       disciplinas 1º semestre (sem avaliações)  \\\n",
              "count                                    4424.0   \n",
              "mean                                        0.1   \n",
              "std                                         0.7   \n",
              "min                                         0.0   \n",
              "25%                                         0.0   \n",
              "50%                                         0.0   \n",
              "75%                                         0.0   \n",
              "max                                        12.0   \n",
              "\n",
              "       disciplinas 2º semestre (creditadas)  \\\n",
              "count                                4424.0   \n",
              "mean                                    0.5   \n",
              "std                                     1.9   \n",
              "min                                     0.0   \n",
              "25%                                     0.0   \n",
              "50%                                     0.0   \n",
              "75%                                     0.0   \n",
              "max                                    19.0   \n",
              "\n",
              "       disciplinas 2º semestre (matriculadas)  \\\n",
              "count                                  4424.0   \n",
              "mean                                      6.2   \n",
              "std                                       2.2   \n",
              "min                                       0.0   \n",
              "25%                                       5.0   \n",
              "50%                                       6.0   \n",
              "75%                                       7.0   \n",
              "max                                      23.0   \n",
              "\n",
              "       disciplinas 2º semestre (avaliações)  \\\n",
              "count                                4424.0   \n",
              "mean                                    8.1   \n",
              "std                                     3.9   \n",
              "min                                     0.0   \n",
              "25%                                     6.0   \n",
              "50%                                     8.0   \n",
              "75%                                    10.0   \n",
              "max                                    33.0   \n",
              "\n",
              "       disciplinas 2º semestre (aprovadas)  disciplinas 2º semestre (notas)  \\\n",
              "count                               4424.0                           4424.0   \n",
              "mean                                   4.4                             10.2   \n",
              "std                                    3.0                              5.2   \n",
              "min                                    0.0                              0.0   \n",
              "25%                                    2.0                             10.8   \n",
              "50%                                    5.0                             12.2   \n",
              "75%                                    6.0                             13.3   \n",
              "max                                   20.0                             18.6   \n",
              "\n",
              "       disciplinas 2º semestre (sem avaliações)  \n",
              "count                                    4424.0  \n",
              "mean                                        0.2  \n",
              "std                                         0.8  \n",
              "min                                         0.0  \n",
              "25%                                         0.0  \n",
              "50%                                         0.0  \n",
              "75%                                         0.0  \n",
              "max                                        12.0  "
            ],
            "text/html": [
              "\n",
              "  <div id=\"df-ca0068dd-0dfa-4e99-9b9a-187fb2ca0fc5\" class=\"colab-df-container\">\n",
              "    <div>\n",
              "<style scoped>\n",
              "    .dataframe tbody tr th:only-of-type {\n",
              "        vertical-align: middle;\n",
              "    }\n",
              "\n",
              "    .dataframe tbody tr th {\n",
              "        vertical-align: top;\n",
              "    }\n",
              "\n",
              "    .dataframe thead th {\n",
              "        text-align: right;\n",
              "    }\n",
              "</style>\n",
              "<table border=\"1\" class=\"dataframe\">\n",
              "  <thead>\n",
              "    <tr style=\"text-align: right;\">\n",
              "      <th></th>\n",
              "      <th>Idade na matrícula</th>\n",
              "      <th>Taxa de desemprego</th>\n",
              "      <th>Taxa de inflação</th>\n",
              "      <th>PIB</th>\n",
              "      <th>disciplinas 1º semestre (creditadas)</th>\n",
              "      <th>disciplinas 1º semestre (matriculadas)</th>\n",
              "      <th>disciplinas 1º semestre (avaliações)</th>\n",
              "      <th>disciplinas 1º semestre (aprovadas)</th>\n",
              "      <th>disciplinas 1º semestre (notas)</th>\n",
              "      <th>disciplinas 1º semestre (sem avaliações)</th>\n",
              "      <th>disciplinas 2º semestre (creditadas)</th>\n",
              "      <th>disciplinas 2º semestre (matriculadas)</th>\n",
              "      <th>disciplinas 2º semestre (avaliações)</th>\n",
              "      <th>disciplinas 2º semestre (aprovadas)</th>\n",
              "      <th>disciplinas 2º semestre (notas)</th>\n",
              "      <th>disciplinas 2º semestre (sem avaliações)</th>\n",
              "    </tr>\n",
              "  </thead>\n",
              "  <tbody>\n",
              "    <tr>\n",
              "      <th>count</th>\n",
              "      <td>4424.0</td>\n",
              "      <td>4424.0</td>\n",
              "      <td>4424.0</td>\n",
              "      <td>4424.0</td>\n",
              "      <td>4424.0</td>\n",
              "      <td>4424.0</td>\n",
              "      <td>4424.0</td>\n",
              "      <td>4424.0</td>\n",
              "      <td>4424.0</td>\n",
              "      <td>4424.0</td>\n",
              "      <td>4424.0</td>\n",
              "      <td>4424.0</td>\n",
              "      <td>4424.0</td>\n",
              "      <td>4424.0</td>\n",
              "      <td>4424.0</td>\n",
              "      <td>4424.0</td>\n",
              "    </tr>\n",
              "    <tr>\n",
              "      <th>mean</th>\n",
              "      <td>23.3</td>\n",
              "      <td>11.6</td>\n",
              "      <td>1.2</td>\n",
              "      <td>0.0</td>\n",
              "      <td>0.7</td>\n",
              "      <td>6.3</td>\n",
              "      <td>8.3</td>\n",
              "      <td>4.7</td>\n",
              "      <td>10.6</td>\n",
              "      <td>0.1</td>\n",
              "      <td>0.5</td>\n",
              "      <td>6.2</td>\n",
              "      <td>8.1</td>\n",
              "      <td>4.4</td>\n",
              "      <td>10.2</td>\n",
              "      <td>0.2</td>\n",
              "    </tr>\n",
              "    <tr>\n",
              "      <th>std</th>\n",
              "      <td>7.6</td>\n",
              "      <td>2.7</td>\n",
              "      <td>1.4</td>\n",
              "      <td>2.3</td>\n",
              "      <td>2.4</td>\n",
              "      <td>2.5</td>\n",
              "      <td>4.2</td>\n",
              "      <td>3.1</td>\n",
              "      <td>4.8</td>\n",
              "      <td>0.7</td>\n",
              "      <td>1.9</td>\n",
              "      <td>2.2</td>\n",
              "      <td>3.9</td>\n",
              "      <td>3.0</td>\n",
              "      <td>5.2</td>\n",
              "      <td>0.8</td>\n",
              "    </tr>\n",
              "    <tr>\n",
              "      <th>min</th>\n",
              "      <td>17.0</td>\n",
              "      <td>7.6</td>\n",
              "      <td>-0.8</td>\n",
              "      <td>-4.1</td>\n",
              "      <td>0.0</td>\n",
              "      <td>0.0</td>\n",
              "      <td>0.0</td>\n",
              "      <td>0.0</td>\n",
              "      <td>0.0</td>\n",
              "      <td>0.0</td>\n",
              "      <td>0.0</td>\n",
              "      <td>0.0</td>\n",
              "      <td>0.0</td>\n",
              "      <td>0.0</td>\n",
              "      <td>0.0</td>\n",
              "      <td>0.0</td>\n",
              "    </tr>\n",
              "    <tr>\n",
              "      <th>25%</th>\n",
              "      <td>19.0</td>\n",
              "      <td>9.4</td>\n",
              "      <td>0.3</td>\n",
              "      <td>-1.7</td>\n",
              "      <td>0.0</td>\n",
              "      <td>5.0</td>\n",
              "      <td>6.0</td>\n",
              "      <td>3.0</td>\n",
              "      <td>11.0</td>\n",
              "      <td>0.0</td>\n",
              "      <td>0.0</td>\n",
              "      <td>5.0</td>\n",
              "      <td>6.0</td>\n",
              "      <td>2.0</td>\n",
              "      <td>10.8</td>\n",
              "      <td>0.0</td>\n",
              "    </tr>\n",
              "    <tr>\n",
              "      <th>50%</th>\n",
              "      <td>20.0</td>\n",
              "      <td>11.1</td>\n",
              "      <td>1.4</td>\n",
              "      <td>0.3</td>\n",
              "      <td>0.0</td>\n",
              "      <td>6.0</td>\n",
              "      <td>8.0</td>\n",
              "      <td>5.0</td>\n",
              "      <td>12.3</td>\n",
              "      <td>0.0</td>\n",
              "      <td>0.0</td>\n",
              "      <td>6.0</td>\n",
              "      <td>8.0</td>\n",
              "      <td>5.0</td>\n",
              "      <td>12.2</td>\n",
              "      <td>0.0</td>\n",
              "    </tr>\n",
              "    <tr>\n",
              "      <th>75%</th>\n",
              "      <td>25.0</td>\n",
              "      <td>13.9</td>\n",
              "      <td>2.6</td>\n",
              "      <td>1.8</td>\n",
              "      <td>0.0</td>\n",
              "      <td>7.0</td>\n",
              "      <td>10.0</td>\n",
              "      <td>6.0</td>\n",
              "      <td>13.4</td>\n",
              "      <td>0.0</td>\n",
              "      <td>0.0</td>\n",
              "      <td>7.0</td>\n",
              "      <td>10.0</td>\n",
              "      <td>6.0</td>\n",
              "      <td>13.3</td>\n",
              "      <td>0.0</td>\n",
              "    </tr>\n",
              "    <tr>\n",
              "      <th>max</th>\n",
              "      <td>70.0</td>\n",
              "      <td>16.2</td>\n",
              "      <td>3.7</td>\n",
              "      <td>3.5</td>\n",
              "      <td>20.0</td>\n",
              "      <td>26.0</td>\n",
              "      <td>45.0</td>\n",
              "      <td>26.0</td>\n",
              "      <td>18.9</td>\n",
              "      <td>12.0</td>\n",
              "      <td>19.0</td>\n",
              "      <td>23.0</td>\n",
              "      <td>33.0</td>\n",
              "      <td>20.0</td>\n",
              "      <td>18.6</td>\n",
              "      <td>12.0</td>\n",
              "    </tr>\n",
              "  </tbody>\n",
              "</table>\n",
              "</div>\n",
              "    <div class=\"colab-df-buttons\">\n",
              "\n",
              "  <div class=\"colab-df-container\">\n",
              "    <button class=\"colab-df-convert\" onclick=\"convertToInteractive('df-ca0068dd-0dfa-4e99-9b9a-187fb2ca0fc5')\"\n",
              "            title=\"Convert this dataframe to an interactive table.\"\n",
              "            style=\"display:none;\">\n",
              "\n",
              "  <svg xmlns=\"http://www.w3.org/2000/svg\" height=\"24px\" viewBox=\"0 -960 960 960\">\n",
              "    <path d=\"M120-120v-720h720v720H120Zm60-500h600v-160H180v160Zm220 220h160v-160H400v160Zm0 220h160v-160H400v160ZM180-400h160v-160H180v160Zm440 0h160v-160H620v160ZM180-180h160v-160H180v160Zm440 0h160v-160H620v160Z\"/>\n",
              "  </svg>\n",
              "    </button>\n",
              "\n",
              "  <style>\n",
              "    .colab-df-container {\n",
              "      display:flex;\n",
              "      gap: 12px;\n",
              "    }\n",
              "\n",
              "    .colab-df-convert {\n",
              "      background-color: #E8F0FE;\n",
              "      border: none;\n",
              "      border-radius: 50%;\n",
              "      cursor: pointer;\n",
              "      display: none;\n",
              "      fill: #1967D2;\n",
              "      height: 32px;\n",
              "      padding: 0 0 0 0;\n",
              "      width: 32px;\n",
              "    }\n",
              "\n",
              "    .colab-df-convert:hover {\n",
              "      background-color: #E2EBFA;\n",
              "      box-shadow: 0px 1px 2px rgba(60, 64, 67, 0.3), 0px 1px 3px 1px rgba(60, 64, 67, 0.15);\n",
              "      fill: #174EA6;\n",
              "    }\n",
              "\n",
              "    .colab-df-buttons div {\n",
              "      margin-bottom: 4px;\n",
              "    }\n",
              "\n",
              "    [theme=dark] .colab-df-convert {\n",
              "      background-color: #3B4455;\n",
              "      fill: #D2E3FC;\n",
              "    }\n",
              "\n",
              "    [theme=dark] .colab-df-convert:hover {\n",
              "      background-color: #434B5C;\n",
              "      box-shadow: 0px 1px 3px 1px rgba(0, 0, 0, 0.15);\n",
              "      filter: drop-shadow(0px 1px 2px rgba(0, 0, 0, 0.3));\n",
              "      fill: #FFFFFF;\n",
              "    }\n",
              "  </style>\n",
              "\n",
              "    <script>\n",
              "      const buttonEl =\n",
              "        document.querySelector('#df-ca0068dd-0dfa-4e99-9b9a-187fb2ca0fc5 button.colab-df-convert');\n",
              "      buttonEl.style.display =\n",
              "        google.colab.kernel.accessAllowed ? 'block' : 'none';\n",
              "\n",
              "      async function convertToInteractive(key) {\n",
              "        const element = document.querySelector('#df-ca0068dd-0dfa-4e99-9b9a-187fb2ca0fc5');\n",
              "        const dataTable =\n",
              "          await google.colab.kernel.invokeFunction('convertToInteractive',\n",
              "                                                    [key], {});\n",
              "        if (!dataTable) return;\n",
              "\n",
              "        const docLinkHtml = 'Like what you see? Visit the ' +\n",
              "          '<a target=\"_blank\" href=https://colab.research.google.com/notebooks/data_table.ipynb>data table notebook</a>'\n",
              "          + ' to learn more about interactive tables.';\n",
              "        element.innerHTML = '';\n",
              "        dataTable['output_type'] = 'display_data';\n",
              "        await google.colab.output.renderOutput(dataTable, element);\n",
              "        const docLink = document.createElement('div');\n",
              "        docLink.innerHTML = docLinkHtml;\n",
              "        element.appendChild(docLink);\n",
              "      }\n",
              "    </script>\n",
              "  </div>\n",
              "\n",
              "\n",
              "<div id=\"df-8b4f3b37-4996-4d1a-94a8-8d0b56214725\">\n",
              "  <button class=\"colab-df-quickchart\" onclick=\"quickchart('df-8b4f3b37-4996-4d1a-94a8-8d0b56214725')\"\n",
              "            title=\"Suggest charts\"\n",
              "            style=\"display:none;\">\n",
              "\n",
              "<svg xmlns=\"http://www.w3.org/2000/svg\" height=\"24px\"viewBox=\"0 0 24 24\"\n",
              "     width=\"24px\">\n",
              "    <g>\n",
              "        <path d=\"M19 3H5c-1.1 0-2 .9-2 2v14c0 1.1.9 2 2 2h14c1.1 0 2-.9 2-2V5c0-1.1-.9-2-2-2zM9 17H7v-7h2v7zm4 0h-2V7h2v10zm4 0h-2v-4h2v4z\"/>\n",
              "    </g>\n",
              "</svg>\n",
              "  </button>\n",
              "\n",
              "<style>\n",
              "  .colab-df-quickchart {\n",
              "      --bg-color: #E8F0FE;\n",
              "      --fill-color: #1967D2;\n",
              "      --hover-bg-color: #E2EBFA;\n",
              "      --hover-fill-color: #174EA6;\n",
              "      --disabled-fill-color: #AAA;\n",
              "      --disabled-bg-color: #DDD;\n",
              "  }\n",
              "\n",
              "  [theme=dark] .colab-df-quickchart {\n",
              "      --bg-color: #3B4455;\n",
              "      --fill-color: #D2E3FC;\n",
              "      --hover-bg-color: #434B5C;\n",
              "      --hover-fill-color: #FFFFFF;\n",
              "      --disabled-bg-color: #3B4455;\n",
              "      --disabled-fill-color: #666;\n",
              "  }\n",
              "\n",
              "  .colab-df-quickchart {\n",
              "    background-color: var(--bg-color);\n",
              "    border: none;\n",
              "    border-radius: 50%;\n",
              "    cursor: pointer;\n",
              "    display: none;\n",
              "    fill: var(--fill-color);\n",
              "    height: 32px;\n",
              "    padding: 0;\n",
              "    width: 32px;\n",
              "  }\n",
              "\n",
              "  .colab-df-quickchart:hover {\n",
              "    background-color: var(--hover-bg-color);\n",
              "    box-shadow: 0 1px 2px rgba(60, 64, 67, 0.3), 0 1px 3px 1px rgba(60, 64, 67, 0.15);\n",
              "    fill: var(--button-hover-fill-color);\n",
              "  }\n",
              "\n",
              "  .colab-df-quickchart-complete:disabled,\n",
              "  .colab-df-quickchart-complete:disabled:hover {\n",
              "    background-color: var(--disabled-bg-color);\n",
              "    fill: var(--disabled-fill-color);\n",
              "    box-shadow: none;\n",
              "  }\n",
              "\n",
              "  .colab-df-spinner {\n",
              "    border: 2px solid var(--fill-color);\n",
              "    border-color: transparent;\n",
              "    border-bottom-color: var(--fill-color);\n",
              "    animation:\n",
              "      spin 1s steps(1) infinite;\n",
              "  }\n",
              "\n",
              "  @keyframes spin {\n",
              "    0% {\n",
              "      border-color: transparent;\n",
              "      border-bottom-color: var(--fill-color);\n",
              "      border-left-color: var(--fill-color);\n",
              "    }\n",
              "    20% {\n",
              "      border-color: transparent;\n",
              "      border-left-color: var(--fill-color);\n",
              "      border-top-color: var(--fill-color);\n",
              "    }\n",
              "    30% {\n",
              "      border-color: transparent;\n",
              "      border-left-color: var(--fill-color);\n",
              "      border-top-color: var(--fill-color);\n",
              "      border-right-color: var(--fill-color);\n",
              "    }\n",
              "    40% {\n",
              "      border-color: transparent;\n",
              "      border-right-color: var(--fill-color);\n",
              "      border-top-color: var(--fill-color);\n",
              "    }\n",
              "    60% {\n",
              "      border-color: transparent;\n",
              "      border-right-color: var(--fill-color);\n",
              "    }\n",
              "    80% {\n",
              "      border-color: transparent;\n",
              "      border-right-color: var(--fill-color);\n",
              "      border-bottom-color: var(--fill-color);\n",
              "    }\n",
              "    90% {\n",
              "      border-color: transparent;\n",
              "      border-bottom-color: var(--fill-color);\n",
              "    }\n",
              "  }\n",
              "</style>\n",
              "\n",
              "  <script>\n",
              "    async function quickchart(key) {\n",
              "      const quickchartButtonEl =\n",
              "        document.querySelector('#' + key + ' button');\n",
              "      quickchartButtonEl.disabled = true;  // To prevent multiple clicks.\n",
              "      quickchartButtonEl.classList.add('colab-df-spinner');\n",
              "      try {\n",
              "        const charts = await google.colab.kernel.invokeFunction(\n",
              "            'suggestCharts', [key], {});\n",
              "      } catch (error) {\n",
              "        console.error('Error during call to suggestCharts:', error);\n",
              "      }\n",
              "      quickchartButtonEl.classList.remove('colab-df-spinner');\n",
              "      quickchartButtonEl.classList.add('colab-df-quickchart-complete');\n",
              "    }\n",
              "    (() => {\n",
              "      let quickchartButtonEl =\n",
              "        document.querySelector('#df-8b4f3b37-4996-4d1a-94a8-8d0b56214725 button');\n",
              "      quickchartButtonEl.style.display =\n",
              "        google.colab.kernel.accessAllowed ? 'block' : 'none';\n",
              "    })();\n",
              "  </script>\n",
              "</div>\n",
              "    </div>\n",
              "  </div>\n"
            ]
          },
          "metadata": {},
          "execution_count": 2
        }
      ]
    },
    {
      "cell_type": "code",
      "source": [
        "colunas_categoricas = ['Estado civil', 'Migração', 'Sexo', 'Estrangeiro',\n",
        "                       'Necessidades educacionais especiais','Devedor',  'Taxas de matrícula em dia',\n",
        "                       'Bolsista', 'Curso', 'Período', 'Qualificação prévia', 'Target']\n",
        "\n",
        "df[colunas_categoricas].describe()"
      ],
      "metadata": {
        "colab": {
          "base_uri": "https://localhost:8080/",
          "height": 192
        },
        "id": "9KFVG4oPrdb5",
        "outputId": "086c83d7-20b7-4554-8961-ed37365c0be4"
      },
      "execution_count": null,
      "outputs": [
        {
          "output_type": "execute_result",
          "data": {
            "text/plain": [
              "       Estado civil Migração      Sexo Estrangeiro  \\\n",
              "count          4424     4424      4424        4424   \n",
              "unique            6        2         2           2   \n",
              "top        Solteiro      Sim  Feminino         Não   \n",
              "freq           3919     2426      2868        4314   \n",
              "\n",
              "       Necessidades educacionais especiais Devedor Taxas de matrícula em dia  \\\n",
              "count                                 4424    4424                      4424   \n",
              "unique                                   2       2                         2   \n",
              "top                                    Não     Não                       Sim   \n",
              "freq                                  4373    3921                      3896   \n",
              "\n",
              "       Bolsista       Curso Período  Qualificação prévia    Target  \n",
              "count      4424        4424    4424                 4424      4424  \n",
              "unique        2          17       2                   17         3  \n",
              "top         Não  Enfermagem  Diurno  Educação secundária  Graduado  \n",
              "freq       3325         766    3941                 3717      2209  "
            ],
            "text/html": [
              "\n",
              "  <div id=\"df-b883de5c-bc8d-4efc-89ee-e7abe4c9a749\" class=\"colab-df-container\">\n",
              "    <div>\n",
              "<style scoped>\n",
              "    .dataframe tbody tr th:only-of-type {\n",
              "        vertical-align: middle;\n",
              "    }\n",
              "\n",
              "    .dataframe tbody tr th {\n",
              "        vertical-align: top;\n",
              "    }\n",
              "\n",
              "    .dataframe thead th {\n",
              "        text-align: right;\n",
              "    }\n",
              "</style>\n",
              "<table border=\"1\" class=\"dataframe\">\n",
              "  <thead>\n",
              "    <tr style=\"text-align: right;\">\n",
              "      <th></th>\n",
              "      <th>Estado civil</th>\n",
              "      <th>Migração</th>\n",
              "      <th>Sexo</th>\n",
              "      <th>Estrangeiro</th>\n",
              "      <th>Necessidades educacionais especiais</th>\n",
              "      <th>Devedor</th>\n",
              "      <th>Taxas de matrícula em dia</th>\n",
              "      <th>Bolsista</th>\n",
              "      <th>Curso</th>\n",
              "      <th>Período</th>\n",
              "      <th>Qualificação prévia</th>\n",
              "      <th>Target</th>\n",
              "    </tr>\n",
              "  </thead>\n",
              "  <tbody>\n",
              "    <tr>\n",
              "      <th>count</th>\n",
              "      <td>4424</td>\n",
              "      <td>4424</td>\n",
              "      <td>4424</td>\n",
              "      <td>4424</td>\n",
              "      <td>4424</td>\n",
              "      <td>4424</td>\n",
              "      <td>4424</td>\n",
              "      <td>4424</td>\n",
              "      <td>4424</td>\n",
              "      <td>4424</td>\n",
              "      <td>4424</td>\n",
              "      <td>4424</td>\n",
              "    </tr>\n",
              "    <tr>\n",
              "      <th>unique</th>\n",
              "      <td>6</td>\n",
              "      <td>2</td>\n",
              "      <td>2</td>\n",
              "      <td>2</td>\n",
              "      <td>2</td>\n",
              "      <td>2</td>\n",
              "      <td>2</td>\n",
              "      <td>2</td>\n",
              "      <td>17</td>\n",
              "      <td>2</td>\n",
              "      <td>17</td>\n",
              "      <td>3</td>\n",
              "    </tr>\n",
              "    <tr>\n",
              "      <th>top</th>\n",
              "      <td>Solteiro</td>\n",
              "      <td>Sim</td>\n",
              "      <td>Feminino</td>\n",
              "      <td>Não</td>\n",
              "      <td>Não</td>\n",
              "      <td>Não</td>\n",
              "      <td>Sim</td>\n",
              "      <td>Não</td>\n",
              "      <td>Enfermagem</td>\n",
              "      <td>Diurno</td>\n",
              "      <td>Educação secundária</td>\n",
              "      <td>Graduado</td>\n",
              "    </tr>\n",
              "    <tr>\n",
              "      <th>freq</th>\n",
              "      <td>3919</td>\n",
              "      <td>2426</td>\n",
              "      <td>2868</td>\n",
              "      <td>4314</td>\n",
              "      <td>4373</td>\n",
              "      <td>3921</td>\n",
              "      <td>3896</td>\n",
              "      <td>3325</td>\n",
              "      <td>766</td>\n",
              "      <td>3941</td>\n",
              "      <td>3717</td>\n",
              "      <td>2209</td>\n",
              "    </tr>\n",
              "  </tbody>\n",
              "</table>\n",
              "</div>\n",
              "    <div class=\"colab-df-buttons\">\n",
              "\n",
              "  <div class=\"colab-df-container\">\n",
              "    <button class=\"colab-df-convert\" onclick=\"convertToInteractive('df-b883de5c-bc8d-4efc-89ee-e7abe4c9a749')\"\n",
              "            title=\"Convert this dataframe to an interactive table.\"\n",
              "            style=\"display:none;\">\n",
              "\n",
              "  <svg xmlns=\"http://www.w3.org/2000/svg\" height=\"24px\" viewBox=\"0 -960 960 960\">\n",
              "    <path d=\"M120-120v-720h720v720H120Zm60-500h600v-160H180v160Zm220 220h160v-160H400v160Zm0 220h160v-160H400v160ZM180-400h160v-160H180v160Zm440 0h160v-160H620v160ZM180-180h160v-160H180v160Zm440 0h160v-160H620v160Z\"/>\n",
              "  </svg>\n",
              "    </button>\n",
              "\n",
              "  <style>\n",
              "    .colab-df-container {\n",
              "      display:flex;\n",
              "      gap: 12px;\n",
              "    }\n",
              "\n",
              "    .colab-df-convert {\n",
              "      background-color: #E8F0FE;\n",
              "      border: none;\n",
              "      border-radius: 50%;\n",
              "      cursor: pointer;\n",
              "      display: none;\n",
              "      fill: #1967D2;\n",
              "      height: 32px;\n",
              "      padding: 0 0 0 0;\n",
              "      width: 32px;\n",
              "    }\n",
              "\n",
              "    .colab-df-convert:hover {\n",
              "      background-color: #E2EBFA;\n",
              "      box-shadow: 0px 1px 2px rgba(60, 64, 67, 0.3), 0px 1px 3px 1px rgba(60, 64, 67, 0.15);\n",
              "      fill: #174EA6;\n",
              "    }\n",
              "\n",
              "    .colab-df-buttons div {\n",
              "      margin-bottom: 4px;\n",
              "    }\n",
              "\n",
              "    [theme=dark] .colab-df-convert {\n",
              "      background-color: #3B4455;\n",
              "      fill: #D2E3FC;\n",
              "    }\n",
              "\n",
              "    [theme=dark] .colab-df-convert:hover {\n",
              "      background-color: #434B5C;\n",
              "      box-shadow: 0px 1px 3px 1px rgba(0, 0, 0, 0.15);\n",
              "      filter: drop-shadow(0px 1px 2px rgba(0, 0, 0, 0.3));\n",
              "      fill: #FFFFFF;\n",
              "    }\n",
              "  </style>\n",
              "\n",
              "    <script>\n",
              "      const buttonEl =\n",
              "        document.querySelector('#df-b883de5c-bc8d-4efc-89ee-e7abe4c9a749 button.colab-df-convert');\n",
              "      buttonEl.style.display =\n",
              "        google.colab.kernel.accessAllowed ? 'block' : 'none';\n",
              "\n",
              "      async function convertToInteractive(key) {\n",
              "        const element = document.querySelector('#df-b883de5c-bc8d-4efc-89ee-e7abe4c9a749');\n",
              "        const dataTable =\n",
              "          await google.colab.kernel.invokeFunction('convertToInteractive',\n",
              "                                                    [key], {});\n",
              "        if (!dataTable) return;\n",
              "\n",
              "        const docLinkHtml = 'Like what you see? Visit the ' +\n",
              "          '<a target=\"_blank\" href=https://colab.research.google.com/notebooks/data_table.ipynb>data table notebook</a>'\n",
              "          + ' to learn more about interactive tables.';\n",
              "        element.innerHTML = '';\n",
              "        dataTable['output_type'] = 'display_data';\n",
              "        await google.colab.output.renderOutput(dataTable, element);\n",
              "        const docLink = document.createElement('div');\n",
              "        docLink.innerHTML = docLinkHtml;\n",
              "        element.appendChild(docLink);\n",
              "      }\n",
              "    </script>\n",
              "  </div>\n",
              "\n",
              "\n",
              "<div id=\"df-e18a44a7-932a-420b-af36-518f30c6f6ae\">\n",
              "  <button class=\"colab-df-quickchart\" onclick=\"quickchart('df-e18a44a7-932a-420b-af36-518f30c6f6ae')\"\n",
              "            title=\"Suggest charts\"\n",
              "            style=\"display:none;\">\n",
              "\n",
              "<svg xmlns=\"http://www.w3.org/2000/svg\" height=\"24px\"viewBox=\"0 0 24 24\"\n",
              "     width=\"24px\">\n",
              "    <g>\n",
              "        <path d=\"M19 3H5c-1.1 0-2 .9-2 2v14c0 1.1.9 2 2 2h14c1.1 0 2-.9 2-2V5c0-1.1-.9-2-2-2zM9 17H7v-7h2v7zm4 0h-2V7h2v10zm4 0h-2v-4h2v4z\"/>\n",
              "    </g>\n",
              "</svg>\n",
              "  </button>\n",
              "\n",
              "<style>\n",
              "  .colab-df-quickchart {\n",
              "      --bg-color: #E8F0FE;\n",
              "      --fill-color: #1967D2;\n",
              "      --hover-bg-color: #E2EBFA;\n",
              "      --hover-fill-color: #174EA6;\n",
              "      --disabled-fill-color: #AAA;\n",
              "      --disabled-bg-color: #DDD;\n",
              "  }\n",
              "\n",
              "  [theme=dark] .colab-df-quickchart {\n",
              "      --bg-color: #3B4455;\n",
              "      --fill-color: #D2E3FC;\n",
              "      --hover-bg-color: #434B5C;\n",
              "      --hover-fill-color: #FFFFFF;\n",
              "      --disabled-bg-color: #3B4455;\n",
              "      --disabled-fill-color: #666;\n",
              "  }\n",
              "\n",
              "  .colab-df-quickchart {\n",
              "    background-color: var(--bg-color);\n",
              "    border: none;\n",
              "    border-radius: 50%;\n",
              "    cursor: pointer;\n",
              "    display: none;\n",
              "    fill: var(--fill-color);\n",
              "    height: 32px;\n",
              "    padding: 0;\n",
              "    width: 32px;\n",
              "  }\n",
              "\n",
              "  .colab-df-quickchart:hover {\n",
              "    background-color: var(--hover-bg-color);\n",
              "    box-shadow: 0 1px 2px rgba(60, 64, 67, 0.3), 0 1px 3px 1px rgba(60, 64, 67, 0.15);\n",
              "    fill: var(--button-hover-fill-color);\n",
              "  }\n",
              "\n",
              "  .colab-df-quickchart-complete:disabled,\n",
              "  .colab-df-quickchart-complete:disabled:hover {\n",
              "    background-color: var(--disabled-bg-color);\n",
              "    fill: var(--disabled-fill-color);\n",
              "    box-shadow: none;\n",
              "  }\n",
              "\n",
              "  .colab-df-spinner {\n",
              "    border: 2px solid var(--fill-color);\n",
              "    border-color: transparent;\n",
              "    border-bottom-color: var(--fill-color);\n",
              "    animation:\n",
              "      spin 1s steps(1) infinite;\n",
              "  }\n",
              "\n",
              "  @keyframes spin {\n",
              "    0% {\n",
              "      border-color: transparent;\n",
              "      border-bottom-color: var(--fill-color);\n",
              "      border-left-color: var(--fill-color);\n",
              "    }\n",
              "    20% {\n",
              "      border-color: transparent;\n",
              "      border-left-color: var(--fill-color);\n",
              "      border-top-color: var(--fill-color);\n",
              "    }\n",
              "    30% {\n",
              "      border-color: transparent;\n",
              "      border-left-color: var(--fill-color);\n",
              "      border-top-color: var(--fill-color);\n",
              "      border-right-color: var(--fill-color);\n",
              "    }\n",
              "    40% {\n",
              "      border-color: transparent;\n",
              "      border-right-color: var(--fill-color);\n",
              "      border-top-color: var(--fill-color);\n",
              "    }\n",
              "    60% {\n",
              "      border-color: transparent;\n",
              "      border-right-color: var(--fill-color);\n",
              "    }\n",
              "    80% {\n",
              "      border-color: transparent;\n",
              "      border-right-color: var(--fill-color);\n",
              "      border-bottom-color: var(--fill-color);\n",
              "    }\n",
              "    90% {\n",
              "      border-color: transparent;\n",
              "      border-bottom-color: var(--fill-color);\n",
              "    }\n",
              "  }\n",
              "</style>\n",
              "\n",
              "  <script>\n",
              "    async function quickchart(key) {\n",
              "      const quickchartButtonEl =\n",
              "        document.querySelector('#' + key + ' button');\n",
              "      quickchartButtonEl.disabled = true;  // To prevent multiple clicks.\n",
              "      quickchartButtonEl.classList.add('colab-df-spinner');\n",
              "      try {\n",
              "        const charts = await google.colab.kernel.invokeFunction(\n",
              "            'suggestCharts', [key], {});\n",
              "      } catch (error) {\n",
              "        console.error('Error during call to suggestCharts:', error);\n",
              "      }\n",
              "      quickchartButtonEl.classList.remove('colab-df-spinner');\n",
              "      quickchartButtonEl.classList.add('colab-df-quickchart-complete');\n",
              "    }\n",
              "    (() => {\n",
              "      let quickchartButtonEl =\n",
              "        document.querySelector('#df-e18a44a7-932a-420b-af36-518f30c6f6ae button');\n",
              "      quickchartButtonEl.style.display =\n",
              "        google.colab.kernel.accessAllowed ? 'block' : 'none';\n",
              "    })();\n",
              "  </script>\n",
              "</div>\n",
              "    </div>\n",
              "  </div>\n"
            ]
          },
          "metadata": {},
          "execution_count": 3
        }
      ]
    },
    {
      "cell_type": "code",
      "source": [
        "df['Estado civil'].value_counts(normalize=True)*100 # porcentagens"
      ],
      "metadata": {
        "colab": {
          "base_uri": "https://localhost:8080/"
        },
        "id": "AUYWDDiHk31D",
        "outputId": "ab22e659-b4ba-4bdc-f5c1-e2ae102baa55"
      },
      "execution_count": null,
      "outputs": [
        {
          "output_type": "execute_result",
          "data": {
            "text/plain": [
              "Solteiro               88.584991\n",
              "Casado                  8.566908\n",
              "Divorciado              2.056962\n",
              "União Estável           0.565099\n",
              "Legalmente Separado     0.135624\n",
              "Viúvo                   0.090416\n",
              "Name: Estado civil, dtype: float64"
            ]
          },
          "metadata": {},
          "execution_count": 4
        }
      ]
    },
    {
      "cell_type": "markdown",
      "source": [
        "### Dados demograficos"
      ],
      "metadata": {
        "id": "EMzsLclRnYjz"
      }
    },
    {
      "cell_type": "code",
      "source": [
        "import matplotlib.pyplot as plt\n",
        "import seaborn as sns"
      ],
      "metadata": {
        "id": "PiC2p9H5lF1m"
      },
      "execution_count": null,
      "outputs": []
    },
    {
      "cell_type": "code",
      "source": [
        "color_dict = {'Desistente': '#e34c42', 'Graduado': '#4dc471', 'Matriculado': '#3b71db'} #deixando mais bonito\n",
        "sns.displot(data=df, x='Idade na matrícula', hue='Target',kind='kde',fill=True);"
      ],
      "metadata": {
        "colab": {
          "base_uri": "https://localhost:8080/",
          "height": 506
        },
        "id": "6UFSU3mylO9k",
        "outputId": "bb23c143-2181-472e-fb20-7ad46b2cb62a"
      },
      "execution_count": null,
      "outputs": [
        {
          "output_type": "display_data",
          "data": {
            "text/plain": [
              "<Figure size 632x500 with 1 Axes>"
            ],
            "image/png": "[encoded data removed]"
          },
          "metadata": {}
        }
      ]
    },
    {
      "cell_type": "code",
      "source": [
        "df['Estrangeiro'].value_counts(normalize=True)*100"
      ],
      "metadata": {
        "colab": {
          "base_uri": "https://localhost:8080/"
        },
        "id": "Ts9Tdpi1lrSi",
        "outputId": "eff7567f-d37c-4a32-ccba-1f7db40ff9ad"
      },
      "execution_count": null,
      "outputs": [
        {
          "output_type": "execute_result",
          "data": {
            "text/plain": [
              "Não    97.513562\n",
              "Sim     2.486438\n",
              "Name: Estrangeiro, dtype: float64"
            ]
          },
          "metadata": {},
          "execution_count": 7
        }
      ]
    },
    {
      "cell_type": "code",
      "source": [
        "df['Sexo'].value_counts(normalize=True)*100"
      ],
      "metadata": {
        "colab": {
          "base_uri": "https://localhost:8080/"
        },
        "id": "37lsX_9UluV_",
        "outputId": "4699c826-909a-4a5e-d988-e5c3ac53d986"
      },
      "execution_count": null,
      "outputs": [
        {
          "output_type": "execute_result",
          "data": {
            "text/plain": [
              "Feminino     64.82821\n",
              "Masculino    35.17179\n",
              "Name: Sexo, dtype: float64"
            ]
          },
          "metadata": {},
          "execution_count": 8
        }
      ]
    },
    {
      "cell_type": "code",
      "source": [
        "sns.countplot(x='Sexo', hue='Target', data=df);"
      ],
      "metadata": {
        "colab": {
          "base_uri": "https://localhost:8080/",
          "height": 449
        },
        "id": "8Nd_zxb2lvAO",
        "outputId": "2a478204-6dac-40b7-c917-4f2ee86ac897"
      },
      "execution_count": null,
      "outputs": [
        {
          "output_type": "display_data",
          "data": {
            "text/plain": [
              "<Figure size 640x480 with 1 Axes>"
            ],
            "image/png": "[encoded data removed]"
          },
          "metadata": {}
        }
      ]
    },
    {
      "cell_type": "markdown",
      "source": [
        "### dados economicos\n",
        "\n",
        "se o aluno possui problemas financeiros e não possui algo como uma bolsa, ela tende a desistir"
      ],
      "metadata": {
        "id": "KLA38exRnbfy"
      }
    },
    {
      "cell_type": "code",
      "source": [
        "sns.countplot(x= 'Devedor', hue='Target', data=df);"
      ],
      "metadata": {
        "colab": {
          "base_uri": "https://localhost:8080/",
          "height": 449
        },
        "id": "pRNzbSBMnlo-",
        "outputId": "57327ac5-0192-4222-f95e-a9fd98cfcffc"
      },
      "execution_count": null,
      "outputs": [
        {
          "output_type": "display_data",
          "data": {
            "text/plain": [
              "<Figure size 640x480 with 1 Axes>"
            ],
            "image/png": "[encoded data removed]"
          },
          "metadata": {}
        }
      ]
    },
    {
      "cell_type": "code",
      "source": [
        "sns.countplot(x= 'Taxas de matrícula em dia', hue='Target', data=df);"
      ],
      "metadata": {
        "colab": {
          "base_uri": "https://localhost:8080/",
          "height": 449
        },
        "id": "CIRlQ87Rns1O",
        "outputId": "18b346ed-f377-4392-e7ad-09586dfa8861"
      },
      "execution_count": null,
      "outputs": [
        {
          "output_type": "display_data",
          "data": {
            "text/plain": [
              "<Figure size 640x480 with 1 Axes>"
            ],
            "image/png": "[encoded data removed]"
          },
          "metadata": {}
        }
      ]
    },
    {
      "cell_type": "code",
      "source": [
        "sns.countplot(x= 'Bolsista', hue='Target', data=df);"
      ],
      "metadata": {
        "colab": {
          "base_uri": "https://localhost:8080/",
          "height": 449
        },
        "id": "TynK6o-mnz3S",
        "outputId": "7a128008-81d7-45ae-8f0d-9c7c91c53020"
      },
      "execution_count": null,
      "outputs": [
        {
          "output_type": "display_data",
          "data": {
            "text/plain": [
              "<Figure size 640x480 with 1 Axes>"
            ],
            "image/png": "[encoded data removed]"
          },
          "metadata": {}
        }
      ]
    },
    {
      "cell_type": "markdown",
      "source": [
        "### Dados do momento da matricula\n",
        "alguns cursos tem um taxa de desistencia maior, cursos noturnos tambem uma taxa maior"
      ],
      "metadata": {
        "id": "LGWe0KhYqdKy"
      }
    },
    {
      "cell_type": "code",
      "source": [
        "import plotly.express as px"
      ],
      "metadata": {
        "id": "zRi_IY-QqfSF"
      },
      "execution_count": null,
      "outputs": []
    },
    {
      "cell_type": "code",
      "source": [
        "contagem = df.groupby(['Curso', 'Target']).size().reset_index(name='Contagem')\n",
        "\n",
        "contagem['Porcentagem'] = contagem.groupby('Curso')['Contagem'].transform(lambda x: (x/x.sum())*100)\n",
        "\n",
        "fig = px.bar(contagem, y='Curso', x='Porcentagem', color='Target', orientation='h',color_discrete_map=color_dict);\n",
        "fig"
      ],
      "metadata": {
        "colab": {
          "base_uri": "https://localhost:8080/",
          "height": 542
        },
        "id": "lsDkd6XDqhBN",
        "outputId": "88014725-fbd1-453f-adf7-afc66b035b9a"
      },
      "execution_count": null,
      "outputs": [
        {
          "output_type": "display_data",
          "data": {
            "text/html": [
              "<html>\n",
              "<head><meta charset=\"utf-8\" /></head>\n",
              "<body>\n",
              "    <div>            <script src=\"https://cdnjs.cloudflare.com/ajax/libs/mathjax/2.7.5/MathJax.js?config=TeX-AMS-MML_SVG\"></script><script type=\"text/javascript\">if (window.MathJax && window.MathJax.Hub && window.MathJax.Hub.Config) {window.MathJax.Hub.Config({SVG: {font: \"STIX-Web\"}});}</script>                <script type=\"text/javascript\">window.PlotlyConfig = {MathJaxConfig: 'local'};</script>\n",
              "        <script charset=\"utf-8\" src=\"https://cdn.plot.ly/plotly-2.24.1.min.js\"></script>                <div id=\"5c808301-4c15-4740-9716-4789a981dda8\" class=\"plotly-graph-div\" style=\"height:525px; width:100%;\"></div>            <script type=\"text/javascript\">                                    window.PLOTLYENV=window.PLOTLYENV || {};                                    if (document.getElementById(\"5c808301-4c15-4740-9716-4789a981dda8\")) {                    Plotly.newPlot(                        \"5c808301-4c15-4740-9716-4789a981dda8\",                        [{\"alignmentgroup\":\"True\",\"hovertemplate\":\"Target=Desistente\\u003cbr\\u003ePorcentagem=%{x}\\u003cbr\\u003eCurso=%{y}\\u003cextra\\u003e\\u003c\\u002fextra\\u003e\",\"legendgroup\":\"Desistente\",\"marker\":{\"color\":\"#e34c42\",\"pattern\":{\"shape\":\"\"}},\"name\":\"Desistente\",\"offsetgroup\":\"Desistente\",\"orientation\":\"h\",\"showlegend\":true,\"textposition\":\"auto\",\"x\":[40.95238095238095,38.139534883720934,22.566371681415927,44.27083333333333,15.404699738903393,26.706231454005934,54.11764705882353,35.26315789473684,50.74626865671642,35.44776119402985,30.513595166163142,38.372093023255815,18.30985915492958,33.02325581395349,66.66666666666666,38.095238095238095,55.319148936170215],\"xaxis\":\"x\",\"y\":[\"Agronomia\",\"Anima\\u00e7\\u00e3o e Design Multim\\u00eddia\",\"Design de Comunica\\u00e7\\u00e3o\",\"Educa\\u00e7\\u00e3o B\\u00e1sica\",\"Enfermagem\",\"Enfermagem Veterin\\u00e1ria\",\"Engenharia da computa\\u00e7\\u00e3o\",\"Gest\\u00e3o\",\"Gest\\u00e3o (noturno)\",\"Gest\\u00e3o de Publicidade e Marketing\",\"Jornalismo e Comunica\\u00e7\\u00e3o\",\"Odontologia\",\"Servi\\u00e7o Social\",\"Servi\\u00e7o Social (noturno)\",\"Tecnologias de Produ\\u00e7\\u00e3o de Biocombust\\u00edveis\",\"Turismo\",\"Zootecnia\"],\"yaxis\":\"y\",\"type\":\"bar\"},{\"alignmentgroup\":\"True\",\"hovertemplate\":\"Target=Graduado\\u003cbr\\u003ePorcentagem=%{x}\\u003cbr\\u003eCurso=%{y}\\u003cextra\\u003e\\u003c\\u002fextra\\u003e\",\"legendgroup\":\"Graduado\",\"marker\":{\"color\":\"#4dc471\",\"pattern\":{\"shape\":\"\"}},\"name\":\"Graduado\",\"offsetgroup\":\"Graduado\",\"orientation\":\"h\",\"showlegend\":true,\"textposition\":\"auto\",\"x\":[41.42857142857143,44.651162790697676,58.849557522123895,29.6875,71.54046997389034,51.038575667655785,8.235294117647058,36.31578947368421,29.1044776119403,46.64179104477612,59.21450151057401,41.86046511627907,69.85915492957746,57.20930232558139,8.333333333333332,45.63492063492063,29.78723404255319],\"xaxis\":\"x\",\"y\":[\"Agronomia\",\"Anima\\u00e7\\u00e3o e Design Multim\\u00eddia\",\"Design de Comunica\\u00e7\\u00e3o\",\"Educa\\u00e7\\u00e3o B\\u00e1sica\",\"Enfermagem\",\"Enfermagem Veterin\\u00e1ria\",\"Engenharia da computa\\u00e7\\u00e3o\",\"Gest\\u00e3o\",\"Gest\\u00e3o (noturno)\",\"Gest\\u00e3o de Publicidade e Marketing\",\"Jornalismo e Comunica\\u00e7\\u00e3o\",\"Odontologia\",\"Servi\\u00e7o Social\",\"Servi\\u00e7o Social (noturno)\",\"Tecnologias de Produ\\u00e7\\u00e3o de Biocombust\\u00edveis\",\"Turismo\",\"Zootecnia\"],\"yaxis\":\"y\",\"type\":\"bar\"},{\"alignmentgroup\":\"True\",\"hovertemplate\":\"Target=Matriculado\\u003cbr\\u003ePorcentagem=%{x}\\u003cbr\\u003eCurso=%{y}\\u003cextra\\u003e\\u003c\\u002fextra\\u003e\",\"legendgroup\":\"Matriculado\",\"marker\":{\"color\":\"#3b71db\",\"pattern\":{\"shape\":\"\"}},\"name\":\"Matriculado\",\"offsetgroup\":\"Matriculado\",\"orientation\":\"h\",\"showlegend\":true,\"textposition\":\"auto\",\"x\":[17.61904761904762,17.209302325581397,18.58407079646018,26.041666666666668,13.054830287206268,22.255192878338278,37.64705882352941,28.421052631578945,20.149253731343283,17.91044776119403,10.27190332326284,19.767441860465116,11.830985915492958,9.767441860465116,25.0,16.26984126984127,14.893617021276595],\"xaxis\":\"x\",\"y\":[\"Agronomia\",\"Anima\\u00e7\\u00e3o e Design Multim\\u00eddia\",\"Design de Comunica\\u00e7\\u00e3o\",\"Educa\\u00e7\\u00e3o B\\u00e1sica\",\"Enfermagem\",\"Enfermagem Veterin\\u00e1ria\",\"Engenharia da computa\\u00e7\\u00e3o\",\"Gest\\u00e3o\",\"Gest\\u00e3o (noturno)\",\"Gest\\u00e3o de Publicidade e Marketing\",\"Jornalismo e Comunica\\u00e7\\u00e3o\",\"Odontologia\",\"Servi\\u00e7o Social\",\"Servi\\u00e7o Social (noturno)\",\"Tecnologias de Produ\\u00e7\\u00e3o de Biocombust\\u00edveis\",\"Turismo\",\"Zootecnia\"],\"yaxis\":\"y\",\"type\":\"bar\"}],                        {\"template\":{\"data\":{\"histogram2dcontour\":[{\"type\":\"histogram2dcontour\",\"colorbar\":{\"outlinewidth\":0,\"ticks\":\"\"},\"colorscale\":[[0.0,\"#0d0887\"],[0.1111111111111111,\"#46039f\"],[0.2222222222222222,\"#7201a8\"],[0.3333333333333333,\"#9c179e\"],[0.4444444444444444,\"#bd3786\"],[0.5555555555555556,\"#d8576b\"],[0.6666666666666666,\"#ed7953\"],[0.7777777777777778,\"#fb9f3a\"],[0.8888888888888888,\"#fdca26\"],[1.0,\"#f0f921\"]]}],\"choropleth\":[{\"type\":\"choropleth\",\"colorbar\":{\"outlinewidth\":0,\"ticks\":\"\"}}],\"histogram2d\":[{\"type\":\"histogram2d\",\"colorbar\":{\"outlinewidth\":0,\"ticks\":\"\"},\"colorscale\":[[0.0,\"#0d0887\"],[0.1111111111111111,\"#46039f\"],[0.2222222222222222,\"#7201a8\"],[0.3333333333333333,\"#9c179e\"],[0.4444444444444444,\"#bd3786\"],[0.5555555555555556,\"#d8576b\"],[0.6666666666666666,\"#ed7953\"],[0.7777777777777778,\"#fb9f3a\"],[0.8888888888888888,\"#fdca26\"],[1.0,\"#f0f921\"]]}],\"heatmap\":[{\"type\":\"heatmap\",\"colorbar\":{\"outlinewidth\":0,\"ticks\":\"\"},\"colorscale\":[[0.0,\"#0d0887\"],[0.1111111111111111,\"#46039f\"],[0.2222222222222222,\"#7201a8\"],[0.3333333333333333,\"#9c179e\"],[0.4444444444444444,\"#bd3786\"],[0.5555555555555556,\"#d8576b\"],[0.6666666666666666,\"#ed7953\"],[0.7777777777777778,\"#fb9f3a\"],[0.8888888888888888,\"#fdca26\"],[1.0,\"#f0f921\"]]}],\"heatmapgl\":[{\"type\":\"heatmapgl\",\"colorbar\":{\"outlinewidth\":0,\"ticks\":\"\"},\"colorscale\":[[0.0,\"#0d0887\"],[0.1111111111111111,\"#46039f\"],[0.2222222222222222,\"#7201a8\"],[0.3333333333333333,\"#9c179e\"],[0.4444444444444444,\"#bd3786\"],[0.5555555555555556,\"#d8576b\"],[0.6666666666666666,\"#ed7953\"],[0.7777777777777778,\"#fb9f3a\"],[0.8888888888888888,\"#fdca26\"],[1.0,\"#f0f921\"]]}],\"contourcarpet\":[{\"type\":\"contourcarpet\",\"colorbar\":{\"outlinewidth\":0,\"ticks\":\"\"}}],\"contour\":[{\"type\":\"contour\",\"colorbar\":{\"outlinewidth\":0,\"ticks\":\"\"},\"colorscale\":[[0.0,\"#0d0887\"],[0.1111111111111111,\"#46039f\"],[0.2222222222222222,\"#7201a8\"],[0.3333333333333333,\"#9c179e\"],[0.4444444444444444,\"#bd3786\"],[0.5555555555555556,\"#d8576b\"],[0.6666666666666666,\"#ed7953\"],[0.7777777777777778,\"#fb9f3a\"],[0.8888888888888888,\"#fdca26\"],[1.0,\"#f0f921\"]]}],\"surface\":[{\"type\":\"surface\",\"colorbar\":{\"outlinewidth\":0,\"ticks\":\"\"},\"colorscale\":[[0.0,\"#0d0887\"],[0.1111111111111111,\"#46039f\"],[0.2222222222222222,\"#7201a8\"],[0.3333333333333333,\"#9c179e\"],[0.4444444444444444,\"#bd3786\"],[0.5555555555555556,\"#d8576b\"],[0.6666666666666666,\"#ed7953\"],[0.7777777777777778,\"#fb9f3a\"],[0.8888888888888888,\"#fdca26\"],[1.0,\"#f0f921\"]]}],\"mesh3d\":[{\"type\":\"mesh3d\",\"colorbar\":{\"outlinewidth\":0,\"ticks\":\"\"}}],\"scatter\":[{\"fillpattern\":{\"fillmode\":\"overlay\",\"size\":10,\"solidity\":0.2},\"type\":\"scatter\"}],\"parcoords\":[{\"type\":\"parcoords\",\"line\":{\"colorbar\":{\"outlinewidth\":0,\"ticks\":\"\"}}}],\"scatterpolargl\":[{\"type\":\"scatterpolargl\",\"marker\":{\"colorbar\":{\"outlinewidth\":0,\"ticks\":\"\"}}}],\"bar\":[{\"error_x\":{\"color\":\"#2a3f5f\"},\"error_y\":{\"color\":\"#2a3f5f\"},\"marker\":{\"line\":{\"color\":\"#E5ECF6\",\"width\":0.5},\"pattern\":{\"fillmode\":\"overlay\",\"size\":10,\"solidity\":0.2}},\"type\":\"bar\"}],\"scattergeo\":[{\"type\":\"scattergeo\",\"marker\":{\"colorbar\":{\"outlinewidth\":0,\"ticks\":\"\"}}}],\"scatterpolar\":[{\"type\":\"scatterpolar\",\"marker\":{\"colorbar\":{\"outlinewidth\":0,\"ticks\":\"\"}}}],\"histogram\":[{\"marker\":{\"pattern\":{\"fillmode\":\"overlay\",\"size\":10,\"solidity\":0.2}},\"type\":\"histogram\"}],\"scattergl\":[{\"type\":\"scattergl\",\"marker\":{\"colorbar\":{\"outlinewidth\":0,\"ticks\":\"\"}}}],\"scatter3d\":[{\"type\":\"scatter3d\",\"line\":{\"colorbar\":{\"outlinewidth\":0,\"ticks\":\"\"}},\"marker\":{\"colorbar\":{\"outlinewidth\":0,\"ticks\":\"\"}}}],\"scattermapbox\":[{\"type\":\"scattermapbox\",\"marker\":{\"colorbar\":{\"outlinewidth\":0,\"ticks\":\"\"}}}],\"scatterternary\":[{\"type\":\"scatterternary\",\"marker\":{\"colorbar\":{\"outlinewidth\":0,\"ticks\":\"\"}}}],\"scattercarpet\":[{\"type\":\"scattercarpet\",\"marker\":{\"colorbar\":{\"outlinewidth\":0,\"ticks\":\"\"}}}],\"carpet\":[{\"aaxis\":{\"endlinecolor\":\"#2a3f5f\",\"gridcolor\":\"white\",\"linecolor\":\"white\",\"minorgridcolor\":\"white\",\"startlinecolor\":\"#2a3f5f\"},\"baxis\":{\"endlinecolor\":\"#2a3f5f\",\"gridcolor\":\"white\",\"linecolor\":\"white\",\"minorgridcolor\":\"white\",\"startlinecolor\":\"#2a3f5f\"},\"type\":\"carpet\"}],\"table\":[{\"cells\":{\"fill\":{\"color\":\"#EBF0F8\"},\"line\":{\"color\":\"white\"}},\"header\":{\"fill\":{\"color\":\"#C8D4E3\"},\"line\":{\"color\":\"white\"}},\"type\":\"table\"}],\"barpolar\":[{\"marker\":{\"line\":{\"color\":\"#E5ECF6\",\"width\":0.5},\"pattern\":{\"fillmode\":\"overlay\",\"size\":10,\"solidity\":0.2}},\"type\":\"barpolar\"}],\"pie\":[{\"automargin\":true,\"type\":\"pie\"}]},\"layout\":{\"autotypenumbers\":\"strict\",\"colorway\":[\"#636efa\",\"#EF553B\",\"#00cc96\",\"#ab63fa\",\"#FFA15A\",\"#19d3f3\",\"#FF6692\",\"#B6E880\",\"#FF97FF\",\"#FECB52\"],\"font\":{\"color\":\"#2a3f5f\"},\"hovermode\":\"closest\",\"hoverlabel\":{\"align\":\"left\"},\"paper_bgcolor\":\"white\",\"plot_bgcolor\":\"#E5ECF6\",\"polar\":{\"bgcolor\":\"#E5ECF6\",\"angularaxis\":{\"gridcolor\":\"white\",\"linecolor\":\"white\",\"ticks\":\"\"},\"radialaxis\":{\"gridcolor\":\"white\",\"linecolor\":\"white\",\"ticks\":\"\"}},\"ternary\":{\"bgcolor\":\"#E5ECF6\",\"aaxis\":{\"gridcolor\":\"white\",\"linecolor\":\"white\",\"ticks\":\"\"},\"baxis\":{\"gridcolor\":\"white\",\"linecolor\":\"white\",\"ticks\":\"\"},\"caxis\":{\"gridcolor\":\"white\",\"linecolor\":\"white\",\"ticks\":\"\"}},\"coloraxis\":{\"colorbar\":{\"outlinewidth\":0,\"ticks\":\"\"}},\"colorscale\":{\"sequential\":[[0.0,\"#0d0887\"],[0.1111111111111111,\"#46039f\"],[0.2222222222222222,\"#7201a8\"],[0.3333333333333333,\"#9c179e\"],[0.4444444444444444,\"#bd3786\"],[0.5555555555555556,\"#d8576b\"],[0.6666666666666666,\"#ed7953\"],[0.7777777777777778,\"#fb9f3a\"],[0.8888888888888888,\"#fdca26\"],[1.0,\"#f0f921\"]],\"sequentialminus\":[[0.0,\"#0d0887\"],[0.1111111111111111,\"#46039f\"],[0.2222222222222222,\"#7201a8\"],[0.3333333333333333,\"#9c179e\"],[0.4444444444444444,\"#bd3786\"],[0.5555555555555556,\"#d8576b\"],[0.6666666666666666,\"#ed7953\"],[0.7777777777777778,\"#fb9f3a\"],[0.8888888888888888,\"#fdca26\"],[1.0,\"#f0f921\"]],\"diverging\":[[0,\"#8e0152\"],[0.1,\"#c51b7d\"],[0.2,\"#de77ae\"],[0.3,\"#f1b6da\"],[0.4,\"#fde0ef\"],[0.5,\"#f7f7f7\"],[0.6,\"#e6f5d0\"],[0.7,\"#b8e186\"],[0.8,\"#7fbc41\"],[0.9,\"#4d9221\"],[1,\"#276419\"]]},\"xaxis\":{\"gridcolor\":\"white\",\"linecolor\":\"white\",\"ticks\":\"\",\"title\":{\"standoff\":15},\"zerolinecolor\":\"white\",\"automargin\":true,\"zerolinewidth\":2},\"yaxis\":{\"gridcolor\":\"white\",\"linecolor\":\"white\",\"ticks\":\"\",\"title\":{\"standoff\":15},\"zerolinecolor\":\"white\",\"automargin\":true,\"zerolinewidth\":2},\"scene\":{\"xaxis\":{\"backgroundcolor\":\"#E5ECF6\",\"gridcolor\":\"white\",\"linecolor\":\"white\",\"showbackground\":true,\"ticks\":\"\",\"zerolinecolor\":\"white\",\"gridwidth\":2},\"yaxis\":{\"backgroundcolor\":\"#E5ECF6\",\"gridcolor\":\"white\",\"linecolor\":\"white\",\"showbackground\":true,\"ticks\":\"\",\"zerolinecolor\":\"white\",\"gridwidth\":2},\"zaxis\":{\"backgroundcolor\":\"#E5ECF6\",\"gridcolor\":\"white\",\"linecolor\":\"white\",\"showbackground\":true,\"ticks\":\"\",\"zerolinecolor\":\"white\",\"gridwidth\":2}},\"shapedefaults\":{\"line\":{\"color\":\"#2a3f5f\"}},\"annotationdefaults\":{\"arrowcolor\":\"#2a3f5f\",\"arrowhead\":0,\"arrowwidth\":1},\"geo\":{\"bgcolor\":\"white\",\"landcolor\":\"#E5ECF6\",\"subunitcolor\":\"white\",\"showland\":true,\"showlakes\":true,\"lakecolor\":\"white\"},\"title\":{\"x\":0.05},\"mapbox\":{\"style\":\"light\"}}},\"xaxis\":{\"anchor\":\"y\",\"domain\":[0.0,1.0],\"title\":{\"text\":\"Porcentagem\"}},\"yaxis\":{\"anchor\":\"x\",\"domain\":[0.0,1.0],\"title\":{\"text\":\"Curso\"}},\"legend\":{\"title\":{\"text\":\"Target\"},\"tracegroupgap\":0},\"margin\":{\"t\":60},\"barmode\":\"relative\"},                        {\"responsive\": true}                    ).then(function(){\n",
              "                            \n",
              "var gd = document.getElementById('5c808301-4c15-4740-9716-4789a981dda8');\n",
              "var x = new MutationObserver(function (mutations, observer) {{\n",
              "        var display = window.getComputedStyle(gd).display;\n",
              "        if (!display || display === 'none') {{\n",
              "            console.log([gd, 'removed!']);\n",
              "            Plotly.purge(gd);\n",
              "            observer.disconnect();\n",
              "        }}\n",
              "}});\n",
              "\n",
              "// Listen for the removal of the full notebook cells\n",
              "var notebookContainer = gd.closest('#notebook-container');\n",
              "if (notebookContainer) {{\n",
              "    x.observe(notebookContainer, {childList: true});\n",
              "}}\n",
              "\n",
              "// Listen for the clearing of the current output cell\n",
              "var outputEl = gd.closest('.output');\n",
              "if (outputEl) {{\n",
              "    x.observe(outputEl, {childList: true});\n",
              "}}\n",
              "\n",
              "                        })                };                            </script>        </div>\n",
              "</body>\n",
              "</html>"
            ]
          },
          "metadata": {}
        }
      ]
    },
    {
      "cell_type": "markdown",
      "source": [
        "### Dados academicos\n",
        "\n",
        "Notas baixas tem uma taxa de desistencia maior,"
      ],
      "metadata": {
        "id": "5LnUiBFvs2Wy"
      }
    },
    {
      "cell_type": "code",
      "source": [
        "sns.boxplot(x='Target', y='disciplinas 1º semestre (notas)', data=df);"
      ],
      "metadata": {
        "colab": {
          "base_uri": "https://localhost:8080/",
          "height": 449
        },
        "id": "KvoDvlDws3n3",
        "outputId": "93baefff-1770-41fd-f04f-04df9a33cca2"
      },
      "execution_count": null,
      "outputs": [
        {
          "output_type": "display_data",
          "data": {
            "text/plain": [
              "<Figure size 640x480 with 1 Axes>"
            ],
            "image/png": "[encoded data removed]"
          },
          "metadata": {}
        }
      ]
    },
    {
      "cell_type": "code",
      "source": [
        "sns.boxplot(x='Target', y='disciplinas 2º semestre (notas)', data=df);"
      ],
      "metadata": {
        "colab": {
          "base_uri": "https://localhost:8080/",
          "height": 449
        },
        "id": "aIRWtbYHs6Qm",
        "outputId": "4f75b43f-79f6-4054-9567-8f2956933fbb"
      },
      "execution_count": null,
      "outputs": [
        {
          "output_type": "display_data",
          "data": {
            "text/plain": [
              "<Figure size 640x480 with 1 Axes>"
            ],
            "image/png": "[encoded data removed]"
          },
          "metadata": {}
        }
      ]
    },
    {
      "cell_type": "code",
      "source": [
        "df['Target'].value_counts(normalize=True)*100"
      ],
      "metadata": {
        "colab": {
          "base_uri": "https://localhost:8080/"
        },
        "id": "EFSae3nBs7hW",
        "outputId": "ef1fb273-3486-4da0-a752-026b470a0c52"
      },
      "execution_count": null,
      "outputs": [
        {
          "output_type": "execute_result",
          "data": {
            "text/plain": [
              "Graduado       49.932188\n",
              "Desistente     32.120253\n",
              "Matriculado    17.947559\n",
              "Name: Target, dtype: float64"
            ]
          },
          "metadata": {},
          "execution_count": 17
        }
      ]
    },
    {
      "cell_type": "markdown",
      "source": [
        "### Outras variaveis"
      ],
      "metadata": {
        "id": "glLXe8I-lzMY"
      }
    },
    {
      "cell_type": "code",
      "source": [
        "# sns.countplot(x='Migração', hue='Target', data=df);\n",
        "df['Necessidades educacionais especiais'].value_counts(normalize=True)*100"
      ],
      "metadata": {
        "colab": {
          "base_uri": "https://localhost:8080/"
        },
        "id": "UXdYx8ial0m1",
        "outputId": "b92e060e-bf1f-4798-a33e-b26ec26ec8f5"
      },
      "execution_count": null,
      "outputs": [
        {
          "output_type": "execute_result",
          "data": {
            "text/plain": [
              "Sim    54.837251\n",
              "Não    45.162749\n",
              "Name: Migração, dtype: float64"
            ]
          },
          "metadata": {},
          "execution_count": 37
        }
      ]
    },
    {
      "cell_type": "code",
      "source": [
        "# sns.boxplot(x='Target', y='Taxa de desemprego', data=df);\n",
        "# sns.boxplot(x='Target', y='Taxa de inflação', data=df);\n",
        "# sns.boxplot(x='Target', y='PIB', data=df);\n"
      ],
      "metadata": {
        "id": "3boG9kBVmPHd"
      },
      "execution_count": null,
      "outputs": []
    },
    {
      "cell_type": "code",
      "source": [
        "df['Qualificação prévia'].value_counts(normalize=True)*100"
      ],
      "metadata": {
        "colab": {
          "base_uri": "https://localhost:8080/"
        },
        "id": "rNbogISDoLk_",
        "outputId": "2808f54e-0c59-4dd3-96cf-f241e48c8f56"
      },
      "execution_count": null,
      "outputs": [
        {
          "output_type": "execute_result",
          "data": {
            "text/plain": [
              "Educação secundária                                         84.018987\n",
              "Curso de especialização tecnológica                          4.950271\n",
              "Educação básica 3º ciclo (9º/10º/11º ano) ou equivalente     3.661844\n",
              "Educação superior - licenciatura                             2.848101\n",
              "Outro - 11º ano de escolaridade                              1.017179\n",
              "Educação superior - licenciatura (1º ciclo)                  0.904159\n",
              "Curso técnico superior profissional                          0.813743\n",
              "Educação superior - bacharelado                              0.519892\n",
              "Frequência de educação superior                              0.361664\n",
              "12º ano de escolaridade - não concluído                      0.248644\n",
              "Educação superior - mestrado                                 0.180832\n",
              "Educação básica 2º ciclo (6º/7º/8º ano) ou equivalente       0.158228\n",
              "Educação superior - mestrado (2º ciclo)                      0.135624\n",
              "11º ano de escolaridade - não concluído                      0.090416\n",
              "10º ano de escolaridade - não concluído                      0.045208\n",
              "Educação superior - doutorado                                0.022604\n",
              "10º ano de escolaridade                                      0.022604\n",
              "Name: Qualificação prévia, dtype: float64"
            ]
          },
          "metadata": {},
          "execution_count": 40
        }
      ]
    },
    {
      "cell_type": "markdown",
      "source": [
        "## Treinamento do modelo"
      ],
      "metadata": {
        "id": "YO_WxauKo_lT"
      }
    },
    {
      "cell_type": "markdown",
      "source": [
        "### One hot encoding"
      ],
      "metadata": {
        "id": "Vf2zAMcUr5jn"
      }
    },
    {
      "cell_type": "code",
      "source": [
        "from sklearn.preprocessing import OneHotEncoder\n",
        "colunas_categoricas = ['Migração', 'Sexo','Estrangeiro', 'Necessidades educacionais especiais', 'Devedor',\n",
        "                     'Taxas de matrícula em dia', 'Bolsista', 'Período','Estado civil', 'Curso', 'Qualificação prévia']"
      ],
      "metadata": {
        "id": "hgnQ05zrpBSl"
      },
      "execution_count": null,
      "outputs": []
    },
    {
      "cell_type": "code",
      "source": [
        "encoder = OneHotEncoder(drop='if_binary')\n",
        "\n",
        "df_categorico = df[colunas_categoricas]"
      ],
      "metadata": {
        "id": "2MQ-ypYfpsHl"
      },
      "execution_count": null,
      "outputs": []
    },
    {
      "cell_type": "code",
      "source": [
        "df_encoded = pd.DataFrame(encoder.fit_transform(df_categorico).toarray(),\n",
        "                          columns=encoder.get_feature_names_out(colunas_categoricas))"
      ],
      "metadata": {
        "id": "JGsRfw3YpxNt"
      },
      "execution_count": null,
      "outputs": []
    },
    {
      "cell_type": "code",
      "source": [
        "df_final = pd.concat([df.drop(colunas_categoricas, axis=1), df_encoded], axis=1)\n",
        "df_final.head()"
      ],
      "metadata": {
        "id": "gZrw13Lap4Sp"
      },
      "execution_count": null,
      "outputs": []
    },
    {
      "cell_type": "markdown",
      "source": [
        "### Divisao teste, treino e validação"
      ],
      "metadata": {
        "id": "AOWyn09UvNo9"
      }
    },
    {
      "cell_type": "code",
      "source": [
        "X = df_final.drop('Target', axis=1)\n",
        "y = df_final['Target']"
      ],
      "metadata": {
        "id": "-oFSQdFyvRcN"
      },
      "execution_count": null,
      "outputs": []
    },
    {
      "cell_type": "code",
      "source": [
        "from sklearn.model_selection import train_test_split\n",
        "\n",
        "X, X_teste, y, y_teste = train_test_split(X, y, test_size=0.15, stratify=y, random_state=0)\n",
        "\n",
        "X_treino, X_val, y_treino, y_val = train_test_split(X, y, stratify=y, random_state=0)"
      ],
      "metadata": {
        "id": "gIhE8B_xvZVd"
      },
      "execution_count": null,
      "outputs": []
    },
    {
      "cell_type": "markdown",
      "source": [
        "### Criando o modelo (random forest)"
      ],
      "metadata": {
        "id": "pUjqBYm2wpxg"
      }
    },
    {
      "cell_type": "code",
      "source": [
        "from sklearn.ensemble import RandomForestClassifier"
      ],
      "metadata": {
        "id": "uLnCwhPcxz3-"
      },
      "execution_count": null,
      "outputs": []
    },
    {
      "cell_type": "code",
      "source": [
        "modelo_rf = RandomForestClassifier(random_state=0, max_depth=10)\n",
        "\n",
        "modelo_rf.fit(X_treino, y_treino)\n",
        "y_pred = modelo_rf.predict(X_val)\n",
        "\n",
        "print(f'Acurácia de treino: {modelo_rf.score(X_treino, y_treino)}')\n",
        "print(f'Acurácia de validação: {modelo_rf.score(X_val, y_val)}')\n"
      ],
      "metadata": {
        "colab": {
          "base_uri": "https://localhost:8080/"
        },
        "id": "GbagObT8vdTV",
        "outputId": "e36874e5-4be7-491b-ba06-06e497eb90fd"
      },
      "execution_count": null,
      "outputs": [
        {
          "output_type": "stream",
          "name": "stdout",
          "text": [
            "Acurácia de treino: 0.9023779724655819\n",
            "Acurácia de validação: 0.7809762202753442\n"
          ]
        }
      ]
    },
    {
      "cell_type": "markdown",
      "source": [
        "### Usando outro modelo"
      ],
      "metadata": {
        "id": "N1i5Z1bVzLF4"
      }
    },
    {
      "cell_type": "code",
      "source": [
        "from sklearn.ensemble import GradientBoostingClassifier\n",
        "\n",
        "modelo_gb = GradientBoostingClassifier(random_state=0)\n",
        "\n",
        "modelo_gb.fit(X_treino, y_treino)\n",
        "\n",
        "y_pred_gb = modelo_gb.predict(X_val)\n",
        "\n",
        "print(f'Acurácia de treino: {modelo_gb.score(X_treino, y_treino)}')\n",
        "print(f'Acurácia de validação: {modelo_gb.score(X_val, y_val)}')\n"
      ],
      "metadata": {
        "colab": {
          "base_uri": "https://localhost:8080/"
        },
        "id": "3ASRs3CbyE5u",
        "outputId": "8e97f395-042b-44dd-9ed2-d5a11d7a5893"
      },
      "execution_count": null,
      "outputs": [
        {
          "output_type": "stream",
          "name": "stdout",
          "text": [
            "Acurácia de treino: 0.8452231956612433\n",
            "Acurácia de validação: 0.7834793491864831\n"
          ]
        }
      ]
    },
    {
      "cell_type": "markdown",
      "source": [
        "## Avaliando o modelo"
      ],
      "metadata": {
        "id": "imNcIHqD4M2X"
      }
    },
    {
      "cell_type": "code",
      "source": [
        "from sklearn.metrics import confusion_matrix, ConfusionMatrixDisplay"
      ],
      "metadata": {
        "id": "V641caOczMxd"
      },
      "execution_count": null,
      "outputs": []
    },
    {
      "cell_type": "code",
      "source": [
        "matriz_confusao = confusion_matrix(y_val, y_pred)\n",
        "# ConfusionMatrixDisplay.from_predictions(y_val, y_pred, normalize='true', cmap='Blues');"
      ],
      "metadata": {
        "colab": {
          "base_uri": "https://localhost:8080/",
          "height": 449
        },
        "id": "8tc6Jz0o4Oh1",
        "outputId": "87a60b48-158e-4303-9db5-979d3fb2d404"
      },
      "execution_count": null,
      "outputs": [
        {
          "output_type": "display_data",
          "data": {
            "text/plain": [
              "<Figure size 640x480 with 2 Axes>"
            ],
            "image/png": "[encoded data removed]"
          },
          "metadata": {}
        }
      ]
    },
    {
      "cell_type": "code",
      "source": [
        "from sklearn.metrics import classification_report\n",
        "\n",
        "\n",
        "print('Relatório de Classificação:\\n',classification_report(y_val, y_pred))\n",
        "print('recall baixo na classe Matriculado -> dados desbalanceados')"
      ],
      "metadata": {
        "colab": {
          "base_uri": "https://localhost:8080/"
        },
        "id": "v9lcj2JB64aO",
        "outputId": "1ef05f2a-ae05-4913-b8c3-e991185379e7"
      },
      "execution_count": null,
      "outputs": [
        {
          "output_type": "stream",
          "name": "stdout",
          "text": [
            "Relatório de Classificação:\n",
            "               precision    recall  f1-score   support\n",
            "\n",
            "  Desistente       0.80      0.77      0.78       257\n",
            "    Graduado       0.81      0.96      0.88       399\n",
            " Matriculado       0.57      0.31      0.41       143\n",
            "\n",
            "    accuracy                           0.78       799\n",
            "   macro avg       0.72      0.68      0.69       799\n",
            "weighted avg       0.76      0.78      0.76       799\n",
            "\n",
            "recall baixo na classe Matriculado -> dados desbalanceados\n"
          ]
        }
      ]
    },
    {
      "cell_type": "markdown",
      "source": [
        "## Balanceando os dados\n",
        "\n",
        "lembrar que balanceamento é feito nos dados de treino"
      ],
      "metadata": {
        "id": "BpVqxISh83kU"
      }
    },
    {
      "cell_type": "code",
      "source": [
        "y_treino.value_counts()"
      ],
      "metadata": {
        "colab": {
          "base_uri": "https://localhost:8080/"
        },
        "id": "3p-qloia8-LQ",
        "outputId": "6444c55c-b250-44fb-f7dc-3bfebebe9460"
      },
      "execution_count": null,
      "outputs": [
        {
          "output_type": "execute_result",
          "data": {
            "text/plain": [
              "Graduado       1196\n",
              "Desistente      770\n",
              "Matriculado     431\n",
              "Name: Target, dtype: int64"
            ]
          },
          "metadata": {},
          "execution_count": 84
        }
      ]
    },
    {
      "cell_type": "code",
      "source": [
        "from imblearn.over_sampling import SMOTE\n",
        "\n",
        "oversample = SMOTE(random_state=0)\n",
        "x_balanceado, y_balanceado = oversample.fit_resample(X_treino, y_treino)\n",
        "\n",
        "y_balanceado.value_counts()"
      ],
      "metadata": {
        "colab": {
          "base_uri": "https://localhost:8080/"
        },
        "id": "vcggCUDq8_lo",
        "outputId": "eac1912b-e672-4bc1-ae50-bd234c714e7e"
      },
      "execution_count": null,
      "outputs": [
        {
          "output_type": "execute_result",
          "data": {
            "text/plain": [
              "Graduado       1196\n",
              "Desistente     1196\n",
              "Matriculado    1196\n",
              "Name: Target, dtype: int64"
            ]
          },
          "metadata": {},
          "execution_count": 86
        }
      ]
    },
    {
      "cell_type": "code",
      "source": [
        "modelo = RandomForestClassifier(random_state=0, max_depth=10)\n",
        "modelo.fit(x_balanceado, y_balanceado)\n",
        "y_pred = modelo.predict(X_val)"
      ],
      "metadata": {
        "id": "urCCZEmx9ODN"
      },
      "execution_count": null,
      "outputs": []
    },
    {
      "cell_type": "code",
      "source": [
        "print(classification_report(y_val, y_pred), '\\nAconteceu um trade off entre recall e precision\\n')\n",
        "ConfusionMatrixDisplay.from_predictions(y_val, y_pred, normalize='true', cmap='Blues');\n"
      ],
      "metadata": {
        "colab": {
          "base_uri": "https://localhost:8080/",
          "height": 657
        },
        "id": "7EIJJk2y9SkN",
        "outputId": "088500b4-73dc-490c-8580-e09678369423"
      },
      "execution_count": null,
      "outputs": [
        {
          "output_type": "stream",
          "name": "stdout",
          "text": [
            "              precision    recall  f1-score   support\n",
            "\n",
            "  Desistente       0.84      0.72      0.77       257\n",
            "    Graduado       0.84      0.88      0.86       399\n",
            " Matriculado       0.47      0.52      0.49       143\n",
            "\n",
            "    accuracy                           0.76       799\n",
            "   macro avg       0.71      0.71      0.71       799\n",
            "weighted avg       0.77      0.76      0.77       799\n",
            " \n",
            "Aconteceu um trade off entre recall e precision\n",
            "\n"
          ]
        },
        {
          "output_type": "display_data",
          "data": {
            "text/plain": [
              "<Figure size 640x480 with 2 Axes>"
            ],
            "image/png": "[encoded data removed]"
          },
          "metadata": {}
        }
      ]
    },
    {
      "cell_type": "markdown",
      "source": [
        "### balanceando com outro modelo"
      ],
      "metadata": {
        "id": "KjP8FL3-_XA2"
      }
    },
    {
      "cell_type": "code",
      "source": [
        "modelo_gb = GradientBoostingClassifier(random_state=0)\n",
        "\n",
        "modelo_gb.fit(x_balanceado, y_balanceado)\n",
        "\n",
        "y_pred_gb = modelo_gb.predict(X_val)\n",
        "\n",
        "print(classification_report(y_val, y_pred_gb))\n",
        "ConfusionMatrixDisplay.from_estimator(modelo_gb, X_val, y_val, normalize = 'true', cmap = 'Blues');"
      ],
      "metadata": {
        "colab": {
          "base_uri": "https://localhost:8080/",
          "height": 623
        },
        "id": "rZTxtVrA_gkF",
        "outputId": "e49a0f71-3543-4a74-aae5-b6ac49b321e1"
      },
      "execution_count": null,
      "outputs": [
        {
          "output_type": "stream",
          "name": "stdout",
          "text": [
            "              precision    recall  f1-score   support\n",
            "\n",
            "  Desistente       0.80      0.73      0.76       257\n",
            "    Graduado       0.83      0.88      0.86       399\n",
            " Matriculado       0.48      0.48      0.48       143\n",
            "\n",
            "    accuracy                           0.76       799\n",
            "   macro avg       0.70      0.70      0.70       799\n",
            "weighted avg       0.76      0.76      0.76       799\n",
            "\n"
          ]
        },
        {
          "output_type": "display_data",
          "data": {
            "text/plain": [
              "<Figure size 640x480 with 2 Axes>"
            ],
            "image/png": "[encoded data removed]"
          },
          "metadata": {}
        }
      ]
    },
    {
      "cell_type": "markdown",
      "source": [
        "## Validando o Modelo"
      ],
      "metadata": {
        "id": "MZta_JzGBddg"
      }
    },
    {
      "cell_type": "markdown",
      "source": [
        "### Validação cruzada + pipeline"
      ],
      "metadata": {
        "id": "7x2JdXBMC4Aw"
      }
    },
    {
      "cell_type": "code",
      "source": [
        "from imblearn.pipeline import Pipeline as imbpipeline\n",
        "\n",
        "modelo = RandomForestClassifier(max_depth = 10)\n",
        "pipeline = imbpipeline([('oversample', SMOTE()), ('floresta', modelo)])"
      ],
      "metadata": {
        "id": "-YL1x-z4Bfiu"
      },
      "execution_count": null,
      "outputs": []
    },
    {
      "cell_type": "code",
      "source": [
        "from sklearn.model_selection import cross_validate, StratifiedKFold\n",
        "\n",
        "skf = StratifiedKFold(n_splits=5, shuffle=True, random_state=0)\n",
        "cv_resultados = cross_validate(pipeline, X, y, cv=skf, scoring='recall_weighted')\n",
        "cv_resultados['test_score']"
      ],
      "metadata": {
        "colab": {
          "base_uri": "https://localhost:8080/"
        },
        "id": "rnvq-qPpDAnM",
        "outputId": "6d547024-480c-41ef-b595-c10c31a5e086"
      },
      "execution_count": null,
      "outputs": [
        {
          "output_type": "execute_result",
          "data": {
            "text/plain": [
              "array([0.76875   , 0.73865415, 0.76995305, 0.74960876, 0.76682316])"
            ]
          },
          "metadata": {},
          "execution_count": 100
        }
      ]
    },
    {
      "cell_type": "markdown",
      "source": [
        "### Intervalo de confiança"
      ],
      "metadata": {
        "id": "5VvJfGY7EAAW"
      }
    },
    {
      "cell_type": "code",
      "source": [
        "media = cv_resultados['test_score'].mean()\n",
        "desvio_padrao = cv_resultados['test_score'].std()\n",
        "\n",
        "print(f'intervalo de confiança: [{media - 2 * desvio_padrao}, {min(media + 2 * desvio_padrao, 1.0)}]')"
      ],
      "metadata": {
        "colab": {
          "base_uri": "https://localhost:8080/"
        },
        "id": "bY057QX9ELNO",
        "outputId": "44d98eba-2923-4f88-f0e7-67ee952c15ee"
      },
      "execution_count": null,
      "outputs": [
        {
          "output_type": "stream",
          "name": "stdout",
          "text": [
            "intervalo de confiança: [0.7338084440303879, 0.7837072054218813]\n"
          ]
        }
      ]
    },
    {
      "cell_type": "markdown",
      "source": [
        "## Testando o modelo com dados de teste\n",
        "\n",
        "como melhorar modelos de ML irei ver em outros cursos"
      ],
      "metadata": {
        "id": "ueI9MG4IGCvK"
      }
    },
    {
      "cell_type": "code",
      "source": [
        "oversample = SMOTE(random_state=0)\n",
        "X_balanceado, y_balanceado = oversample.fit_resample(X, y)\n",
        "modelo = RandomForestClassifier(random_state=0, max_depth=10)\n",
        "modelo.fit(X_balanceado, y_balanceado)\n",
        "y_pred = modelo.predict(X_teste)\n",
        "\n",
        "print(classification_report(y_teste, y_pred))\n",
        "ConfusionMatrixDisplay.from_predictions(y_teste, y_pred, normalize='true', cmap='Blues');"
      ],
      "metadata": {
        "id": "qMwArXFVGE0t"
      },
      "execution_count": null,
      "outputs": []
    }
  ]
}